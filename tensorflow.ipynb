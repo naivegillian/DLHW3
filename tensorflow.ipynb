{
 "cells": [
  {
   "cell_type": "markdown",
   "metadata": {},
   "source": [
    "# LeNet5 Implementation from Scratch"
   ]
  },
  {
   "cell_type": "code",
   "execution_count": 6,
   "metadata": {
    "code_folding": []
   },
   "outputs": [],
   "source": [
    "#import package\n",
    "import numpy as np \n",
    "import sys\n",
    "import pickle\n",
    "import matplotlib.pyplot as plt\n",
    "import matplotlib.image as mpimg\n",
    "import matplotlib as mpl\n",
    "import time"
   ]
  },
  {
   "cell_type": "code",
   "execution_count": 7,
   "metadata": {},
   "outputs": [],
   "source": [
    "from utils.LayerObjects import *\n",
    "from utils.utils_func import *"
   ]
  },
  {
   "cell_type": "code",
   "execution_count": 8,
   "metadata": {},
   "outputs": [],
   "source": [
    "import os\n",
    "Task_name = 'Assignment1&2 dataset'\n",
    "data_root = \"/home/p88101029/\"\n",
    "raw_data_base = os.path.join(data_root,Task_name)\n",
    "os.makedirs(raw_data_base, exist_ok=True)\n",
    "listoffolder=sorted(os.listdir(raw_data_base), reverse=False)\n",
    "import cv2\n",
    "import numpy as np\n",
    "from numpy import asarray\n",
    "images = []\n",
    "imagescat = []\n",
    "imagesnames = []\n",
    "for folder in listoffolder:\n",
    "    images_path = os.path.join(raw_data_base,folder)\n",
    "    address = sorted(os.listdir(images_path))\n",
    "    for imgadd in address:\n",
    "        imagescat.append(folder)\n",
    "        imagesnames.append(imgadd)\n",
    "        img=cv2.imread(os.path.join(images_path,imgadd))\n",
    "        images.append(asarray(img))"
   ]
  },
  {
   "cell_type": "code",
   "execution_count": 9,
   "metadata": {},
   "outputs": [],
   "source": [
    "imgs=[]\n",
    "for i in images:\n",
    "    img=cv2.resize(i,(64,64))\n",
    "    imgs.append(img)"
   ]
  },
  {
   "cell_type": "code",
   "execution_count": 10,
   "metadata": {},
   "outputs": [],
   "source": [
    "imagesarr=np.asarray(imgs)\n",
    "imagescatarr=np.asarray(imagescat)"
   ]
  },
  {
   "cell_type": "code",
   "execution_count": 11,
   "metadata": {},
   "outputs": [],
   "source": [
    "from sklearn.preprocessing import LabelEncoder\n",
    "from keras.utils import np_utils\n",
    "# encode class values as integers\n",
    "encoder = LabelEncoder()\n",
    "encoder.fit(imagescatarr)\n",
    "encoded_imagescatarr = encoder.transform(imagescatarr)\n",
    "imagescatarr = np_utils.to_categorical(encoded_imagescatarr)"
   ]
  },
  {
   "cell_type": "code",
   "execution_count": 12,
   "metadata": {},
   "outputs": [
    {
     "name": "stdout",
     "output_type": "stream",
     "text": [
      "The shape of training image: (46242, 64, 64, 3)\n",
      "The shape of validing image: (11560, 64, 64, 3)\n",
      "The shape of testing image:  (6423, 64, 64, 3)\n",
      "Length of the training set:  46242\n",
      "Length of the validing set: 11560\n",
      "Length of the testing set:  6423\n",
      "Shape of a single image:  (64, 64, 3)\n"
     ]
    }
   ],
   "source": [
    "from sklearn.model_selection import train_test_split\n",
    "from sklearn.model_selection import PredefinedSplit\n",
    "import tensorflow as tf\n",
    "X_trainvalid, X_test, y_trainvalid, y_test = train_test_split(imagesarr,imagescatarr, test_size=0.1, random_state=0)\n",
    "\n",
    "split_indext = np.concatenate((np.ones(round(len(y_trainvalid)*0.8)), np.zeros(round(len(y_trainvalid)*0.2))), axis=None).astype(bool)\n",
    "split_indexv = np.concatenate((np.zeros(round(len(y_trainvalid)*0.8)), np.ones(round(len(y_trainvalid)*0.2))), axis=None).astype(bool)\n",
    "\n",
    "train_image, train_label = X_trainvalid[split_indext], y_trainvalid[split_indext]\n",
    "valid_image, valid_label = X_trainvalid[split_indexv], y_trainvalid[split_indexv]\n",
    "test_image, test_label = X_test, y_test\n",
    "'''\n",
    "train_image=tf.convert_to_tensor(train_image, dtype=tf.float32)\n",
    "valid_image=tf.convert_to_tensor(valid_image, dtype=tf.float32)\n",
    "test_image=tf.convert_to_tensor(test_image, dtype=tf.float32)\n",
    "train_label=tf.convert_to_tensor(train_label, dtype=tf.float32)\n",
    "valid_label=tf.convert_to_tensor(valid_label, dtype=tf.float32)\n",
    "test_label=tf.convert_to_tensor(test_label, dtype=tf.float32)\n",
    "'''\n",
    "n_m, n_m_valid, n_m_test = len(train_label),len(valid_label), len(test_label)\n",
    "print(\"The shape of training image:\", train_image.shape)\n",
    "print(\"The shape of validing image:\", valid_image.shape)\n",
    "print(\"The shape of testing image: \", test_image.shape)\n",
    "print(\"Length of the training set: \", n_m)\n",
    "print(\"Length of the validing set:\", n_m_valid)\n",
    "print(\"Length of the testing set: \", n_m_test)\n",
    "print(\"Shape of a single image: \", train_image[0].shape)"
   ]
  },
  {
   "cell_type": "code",
   "execution_count": 13,
   "metadata": {},
   "outputs": [],
   "source": [
    "def normalize(image):\n",
    "    image = image/256\n",
    "    return image\n",
    "train_image = normalize(train_image)\n",
    "valid_image = normalize(valid_image)\n",
    "test_image  = normalize(test_image)"
   ]
  },
  {
   "cell_type": "code",
   "execution_count": null,
   "metadata": {},
   "outputs": [],
   "source": [
    "from tensorflow.keras.layers import Conv2D, MaxPooling2D, Flatten, Dense\n",
    "\n",
    "inputs = tf.keras.Input(shape=(64, 64, 3))\n",
    "x = Conv2D(filters=6, kernel_size=(5, 5), activation='tanh')(inputs)\n",
    "x = MaxPooling2D(pool_size=(4, 4))(x)\n",
    "x = Conv2D(filters=16, kernel_size=(5, 5), activation='tanh')(x)\n",
    "x = MaxPooling2D()(x)\n",
    "x = Conv2D(filters=120, kernel_size=(5, 5), activation='tanh')(x)\n",
    "x = x[:,0,0,:]\n",
    "x = Dense(units=120, activation='tanh')(x)\n",
    "x = Dense(units=84, activation='tanh')(x)\n",
    "outputs = Dense(units=50, activation='softmax')(x)\n",
    "\n",
    "model = tf.keras.Model(inputs=inputs, outputs=outputs)\n",
    "\n",
    "acc_rate_list = []\n",
    "opt = tf.keras.optimizers.Adam(learning_rate=0.001)\n",
    "\n",
    "model.compile(optimizer=opt, \n",
    "              loss='categorical_crossentropy',\n",
    "              metrics=['accuracy'])\n",
    "\n",
    "st = time.time()\n",
    "counter=0\n",
    "best_acc=0\n",
    "for epoch in range(100):\n",
    "    history = model.fit(train_image, train_label, validation_data=(valid_image, valid_label), epochs=1, batch_size=256)\n",
    "    print('Epoch:', epoch+1, '- Validation Accuracy:')\n",
    "    acc_train, acc_test = history.history['accuracy'][0], history.history['val_accuracy'][0]\n",
    "    acc_rate_list.append([acc_train, acc_test])\n",
    "    if acc_test>best_acc:\n",
    "        counter=0\n",
    "        best_acc=acc_test\n",
    "    else:\n",
    "        counter+=1\n",
    "        if counter == 10:\n",
    "            break\n",
    "\n",
    "print(\"Total time used: \", time.time() - st, \"sec\")"
   ]
  },
  {
   "cell_type": "code",
   "execution_count": null,
   "metadata": {},
   "outputs": [],
   "source": [
    "# This shows the error rate of training and testing data after each epoch\n",
    "acc_rate_list = np.array(acc_rate_list).T\n",
    "x = np.arange(100)[0:acc_rate_list.shape[1]]\n",
    "plt.xlabel('epoches')\n",
    "plt.ylabel('accuracy')\n",
    "plt.plot(x, acc_rate_list[0,:])\n",
    "plt.plot(x, acc_rate_list[1,:])\n",
    "plt.legend(['training data', 'validation data'], loc='upper right')\n",
    "plt.show()"
   ]
  },
  {
   "cell_type": "code",
   "execution_count": null,
   "metadata": {},
   "outputs": [],
   "source": [
    "predictionprob=model.predict(valid_image)"
   ]
  },
  {
   "cell_type": "code",
   "execution_count": null,
   "metadata": {},
   "outputs": [],
   "source": [
    "prediction = np.argmax(predictionprob, axis = 1)\n",
    "actual = np.argmax(valid_label.numpy(), axis = 1)\n",
    "np.mean(prediction==actual)"
   ]
  },
  {
   "cell_type": "code",
   "execution_count": null,
   "metadata": {},
   "outputs": [],
   "source": [
    "maxfive=np.argsort(predictionprob, axis=1)[:,-5:]\n",
    "actual= np.argmax(valid_label.cpu().numpy(), axis = 1).reshape(-1,1)\n",
    "np.mean((actual==maxfive).sum(-1))"
   ]
  },
  {
   "cell_type": "code",
   "execution_count": null,
   "metadata": {},
   "outputs": [],
   "source": [
    "with tf.device('/GPU:0'):\n",
    "    st = time.time()\n",
    "    predictionprob=model.predict(test_image)\n",
    "    print(\"Total time used: \", time.time() - st, \"sec\")    "
   ]
  },
  {
   "cell_type": "code",
   "execution_count": null,
   "metadata": {},
   "outputs": [],
   "source": [
    "prediction = np.argmax(predictionprob, axis = 1)\n",
    "actual = np.argmax(test_label.cpu().numpy(), axis = 1)\n",
    "np.mean(prediction==actual)"
   ]
  },
  {
   "cell_type": "code",
   "execution_count": null,
   "metadata": {},
   "outputs": [],
   "source": [
    "maxfive=np.argsort(predictionprob, axis=1)[:,-5:]\n",
    "actual= np.argmax(test_label.cpu().numpy(), axis = 1).reshape(-1,1)\n",
    "np.mean((actual==maxfive).sum(-1))"
   ]
  },
  {
   "cell_type": "code",
   "execution_count": 22,
   "metadata": {},
   "outputs": [
    {
     "name": "stdout",
     "output_type": "stream",
     "text": [
      "epoch 1, tra_loss= 3.2411, tra_acc= 0.1497, val_loss= 3.2524, val_acc= 0.148\n",
      "Time used:  51.55876708030701 sec\n",
      "epoch 2, tra_loss= 3.1398, tra_acc= 0.1695, val_loss= 3.1603, val_acc= 0.171\n",
      "Time used:  59.67525243759155 sec\n",
      "epoch 3, tra_loss= 3.0027, tra_acc= 0.1988, val_loss= 3.0440, val_acc= 0.192\n",
      "Time used:  67.50876212120056 sec\n",
      "epoch 4, tra_loss= 2.9550, tra_acc= 0.2074, val_loss= 3.0073, val_acc= 0.193\n",
      "Time used:  53.828572034835815 sec\n",
      "epoch 5, tra_loss= 2.8838, tra_acc= 0.2256, val_loss= 2.9559, val_acc= 0.209\n",
      "Time used:  66.0501754283905 sec\n",
      "epoch 6, tra_loss= 2.8345, tra_acc= 0.2361, val_loss= 2.9202, val_acc= 0.215\n",
      "Time used:  44.402666330337524 sec\n",
      "epoch 7, tra_loss= 2.8223, tra_acc= 0.2366, val_loss= 2.9222, val_acc= 0.213\n",
      "Time used:  53.0462703704834 sec\n",
      "epoch 8, tra_loss= 2.7839, tra_acc= 0.2467, val_loss= 2.9036, val_acc= 0.218\n",
      "Time used:  56.353713512420654 sec\n",
      "epoch 9, tra_loss= 2.7205, tra_acc= 0.2597, val_loss= 2.8608, val_acc= 0.230\n",
      "Time used:  35.458972454071045 sec\n",
      "epoch 10, tra_loss= 2.6809, tra_acc= 0.2695, val_loss= 2.8396, val_acc= 0.230\n",
      "Time used:  54.86372494697571 sec\n",
      "epoch 11, tra_loss= 2.6423, tra_acc= 0.2781, val_loss= 2.8201, val_acc= 0.234\n",
      "Time used:  56.87880730628967 sec\n",
      "epoch 12, tra_loss= 2.6602, tra_acc= 0.2714, val_loss= 2.8494, val_acc= 0.231\n",
      "Time used:  62.767682790756226 sec\n",
      "epoch 13, tra_loss= 2.6069, tra_acc= 0.2861, val_loss= 2.8249, val_acc= 0.236\n",
      "Time used:  50.68348217010498 sec\n",
      "epoch 14, tra_loss= 2.5668, tra_acc= 0.2965, val_loss= 2.8053, val_acc= 0.238\n",
      "Time used:  53.40854787826538 sec\n",
      "epoch 15, tra_loss= 2.5318, tra_acc= 0.3040, val_loss= 2.7904, val_acc= 0.246\n",
      "Time used:  45.844019412994385 sec\n",
      "epoch 16, tra_loss= 2.5085, tra_acc= 0.3078, val_loss= 2.7938, val_acc= 0.244\n",
      "Time used:  47.91755247116089 sec\n",
      "epoch 17, tra_loss= 2.4889, tra_acc= 0.3165, val_loss= 2.7876, val_acc= 0.249\n",
      "Time used:  48.83908486366272 sec\n",
      "epoch 18, tra_loss= 2.4627, tra_acc= 0.3207, val_loss= 2.7884, val_acc= 0.248\n",
      "Time used:  54.47173571586609 sec\n",
      "epoch 19, tra_loss= 2.4416, tra_acc= 0.3237, val_loss= 2.7912, val_acc= 0.243\n",
      "Time used:  54.388956785202026 sec\n",
      "epoch 20, tra_loss= 2.4262, tra_acc= 0.3283, val_loss= 2.7947, val_acc= 0.248\n",
      "Time used:  67.61191773414612 sec\n",
      "epoch 21, tra_loss= 2.3963, tra_acc= 0.3330, val_loss= 2.7941, val_acc= 0.247\n",
      "Time used:  54.09468078613281 sec\n",
      "epoch 22, tra_loss= 2.3764, tra_acc= 0.3394, val_loss= 2.7922, val_acc= 0.251\n",
      "Time used:  58.231757164001465 sec\n",
      "epoch 23, tra_loss= 2.3639, tra_acc= 0.3414, val_loss= 2.8088, val_acc= 0.246\n",
      "Time used:  47.51999258995056 sec\n",
      "epoch 24, tra_loss= 2.3347, tra_acc= 0.3519, val_loss= 2.7947, val_acc= 0.250\n",
      "Time used:  71.25259304046631 sec\n",
      "epoch 25, tra_loss= 2.3186, tra_acc= 0.3523, val_loss= 2.7998, val_acc= 0.250\n",
      "Time used:  39.150718450546265 sec\n",
      "epoch 26, tra_loss= 2.3164, tra_acc= 0.3529, val_loss= 2.8173, val_acc= 0.250\n",
      "Time used:  56.972978830337524 sec\n",
      "epoch 27, tra_loss= 2.2987, tra_acc= 0.3565, val_loss= 2.8182, val_acc= 0.247\n",
      "Time used:  50.89446258544922 sec\n",
      "epoch 28, tra_loss= 2.2665, tra_acc= 0.3661, val_loss= 2.8245, val_acc= 0.250\n",
      "Time used:  53.810821533203125 sec\n",
      "epoch 29, tra_loss= 2.2363, tra_acc= 0.3734, val_loss= 2.8161, val_acc= 0.253\n",
      "Time used:  67.67311954498291 sec\n",
      "epoch 30, tra_loss= 2.2402, tra_acc= 0.3732, val_loss= 2.8348, val_acc= 0.253\n",
      "Time used:  64.63547825813293 sec\n",
      "epoch 31, tra_loss= 2.2184, tra_acc= 0.3781, val_loss= 2.8317, val_acc= 0.248\n",
      "Time used:  50.01893949508667 sec\n",
      "epoch 32, tra_loss= 2.2050, tra_acc= 0.3814, val_loss= 2.8464, val_acc= 0.243\n",
      "Time used:  49.43584084510803 sec\n",
      "epoch 33, tra_loss= 2.1695, tra_acc= 0.3897, val_loss= 2.8361, val_acc= 0.248\n",
      "Time used:  53.81652045249939 sec\n",
      "epoch 34, tra_loss= 2.1592, tra_acc= 0.3918, val_loss= 2.8623, val_acc= 0.246\n",
      "Time used:  56.34217882156372 sec\n",
      "epoch 35, tra_loss= 2.1474, tra_acc= 0.3932, val_loss= 2.8640, val_acc= 0.243\n",
      "Time used:  55.35254716873169 sec\n",
      "epoch 36, tra_loss= 2.1228, tra_acc= 0.4021, val_loss= 2.8715, val_acc= 0.246\n",
      "Time used:  62.822083950042725 sec\n",
      "epoch 37, tra_loss= 2.1064, tra_acc= 0.4054, val_loss= 2.8798, val_acc= 0.247\n",
      "Time used:  63.01650285720825 sec\n",
      "epoch 38, tra_loss= 2.1192, tra_acc= 0.4010, val_loss= 2.9161, val_acc= 0.239\n",
      "Time used:  59.395708084106445 sec\n",
      "epoch 39, tra_loss= 2.0961, tra_acc= 0.4100, val_loss= 2.9082, val_acc= 0.244\n",
      "Time used:  60.7570276260376 sec\n",
      "Total time used:  2160.8080813884735 sec\n",
      "Total time used:  7.105667591094971 sec\n"
     ]
    }
   ],
   "source": [
    "import numpy as np\n",
    "import tensorflow.compat.v1 as tf\n",
    "tf.reset_default_graph()\n",
    "tf.disable_eager_execution()\n",
    "tf.disable_v2_behavior()\n",
    "\n",
    "num_epoch = 100\n",
    "batch_size = 256\n",
    "\n",
    "x = tf.placeholder(\"float\", [None,64,64,3])\n",
    "y = tf.placeholder(\"float\", [None,50])\n",
    "\n",
    "conv1_w = tf.get_variable(\"conv1_w\", [5,5,3,6], initializer=tf.truncated_normal_initializer(stddev=0.1))\n",
    "conv1_b = tf.get_variable(\"conv1_b\", [6], initializer=tf.constant_initializer(value=0))\n",
    "conv1 = tf.nn.conv2d(x, conv1_w, strides=[1,1,1,1], padding='VALID')\n",
    "tanh1 = tf.nn.tanh( tf.nn.bias_add(conv1, conv1_b) )\n",
    "\n",
    "pool1 = tf.nn.max_pool(tanh1, ksize=[1,4,4,1], strides=[1,4,4,1], padding='VALID')\n",
    "\n",
    "conv2_w = tf.get_variable(\"conv2_w\", [5,5,6,16], initializer=tf.truncated_normal_initializer(stddev=0.1))\n",
    "conv2_b = tf.get_variable(\"conv2_b\", [16], initializer=tf.constant_initializer(value=0))\n",
    "conv2 = tf.nn.conv2d(pool1, conv2_w, strides=[1,1,1,1], padding='VALID')\n",
    "tanh2 = tf.nn.tanh( tf.nn.bias_add(conv2, conv2_b) )\n",
    "\n",
    "pool2 = tf.nn.max_pool(tanh2, ksize=[1,2,2,1], strides=[1,2,2,1], padding='VALID')\n",
    "\n",
    "conv3_w = tf.get_variable(\"conv3_w\", [5,5,16,120], initializer=tf.truncated_normal_initializer(stddev=0.1))\n",
    "conv3_b = tf.get_variable(\"conv3_b\", [120], initializer=tf.constant_initializer(value=0))\n",
    "conv3 = tf.nn.conv2d(pool2, conv3_w, strides=[1,1,1,1], padding='VALID')\n",
    "tanh3 = tf.nn.tanh( tf.nn.bias_add(conv3, conv3_b) )\n",
    "tanh3 = tanh3[:,0,0,:]\n",
    "\n",
    "fc1_w = tf.get_variable(\"fc1_w\", [120, 84], initializer=tf.truncated_normal_initializer(stddev=0.1))\n",
    "fc1_b = tf.get_variable(\"fc1_b\", [84], initializer=tf.constant_initializer(value=0.1))\n",
    "fc1 = tf.nn.tanh( tf.matmul(tanh3, fc1_w) + fc1_b )\n",
    "\n",
    "fc2_w = tf.get_variable(\"fc2_w\", [84, 50], initializer=tf.truncated_normal_initializer(stddev=0.1))\n",
    "fc2_b = tf.get_variable(\"fc2_b\", [50], initializer=tf.constant_initializer(value=0.1))\n",
    "y_hat = tf.matmul(fc1, fc2_w) + fc2_b\n",
    "\n",
    "pred = tf.nn.softmax(y_hat)\n",
    "\n",
    "loss_op = tf.reduce_mean(tf.nn.softmax_cross_entropy_with_logits_v2(logits=y_hat, labels=y))\n",
    "optimizer = tf.train.AdamOptimizer(learning_rate=0.001)\n",
    "train_op = optimizer.minimize(loss_op)\n",
    "\n",
    "correct = tf.equal(tf.argmax(pred, 1), tf.argmax(y, 1))\n",
    "accuracy = tf.reduce_mean(tf.cast(correct, tf.float32))\n",
    "\n",
    "init = tf.global_variables_initializer()\n",
    "\n",
    "acc_rate_list = []\n",
    "with tf.Session() as sess:\n",
    "    sess.run(init)\n",
    "    size = len(train_image)\n",
    "    indices = np.arange(size)\n",
    "    st = time.time()\n",
    "    counter=0\n",
    "    best_acc=0\n",
    "\n",
    "    for epoch in range(num_epoch):\n",
    "        ste = time.time()\n",
    "        np.random.shuffle(indices)\n",
    "        shuffled_x = train_image[indices]\n",
    "        shuffled_y = train_label[indices]\n",
    "\n",
    "        # Iterate over mini-batches\n",
    "        num_batches = size // batch_size + 1\n",
    "        for batch in range(num_batches):\n",
    "            # Extract the current mini-batch\n",
    "            batch_x = shuffled_x[batch * batch_size : min((batch + 1) * batch_size,size)]\n",
    "            batch_y = shuffled_y[batch * batch_size : min((batch + 1) * batch_size,size)]\n",
    "            sess.run(train_op, feed_dict={x: batch_x, y: batch_y})\n",
    "        tra_loss, tra_acc = sess.run([loss_op, accuracy], feed_dict={x: train_image, y: train_label})\n",
    "        val_loss, val_acc = sess.run([loss_op, accuracy], feed_dict={x: valid_image, y: valid_label})\n",
    "\n",
    "        print(\"epoch \" + str(epoch+1) + \", tra_loss= \" + \"{:.4f}\".format(tra_loss) + \", tra_acc= \" + \"{:.4f}\".format(tra_acc) + \", val_loss= \" + \"{:.4f}\".format(val_loss) + \", val_acc= \" + \"{:.3f}\".format(val_acc))\n",
    "        print(\"Time used: \",time.time() - ste, \"sec\")\n",
    "        acc_rate_list.append([tra_acc, val_acc])\n",
    "        if val_acc>best_acc:\n",
    "            counter=0\n",
    "            best_acc=val_acc\n",
    "        else:\n",
    "            counter+=1\n",
    "            if counter == 10:\n",
    "                break\n",
    "    print(\"Total time used: \", time.time() - st, \"sec\")\n",
    "    st = time.time()\n",
    "    predictionprob = sess.run(pred, feed_dict={x: test_image})\n",
    "    print(\"Total time used: \", time.time() - st, \"sec\")  "
   ]
  },
  {
   "cell_type": "code",
   "execution_count": 23,
   "metadata": {},
   "outputs": [
    {
     "data": {
      "image/png": "[encoded data removed]",
      "text/plain": [
       "<Figure size 432x288 with 1 Axes>"
      ]
     },
     "metadata": {
      "needs_background": "light"
     },
     "output_type": "display_data"
    }
   ],
   "source": [
    "# This shows the error rate of training and testing data after each epoch\n",
    "acc_rate_list = np.array(acc_rate_list).T\n",
    "x = np.arange(100)[0:acc_rate_list.shape[1]]\n",
    "plt.xlabel('epoches')\n",
    "plt.ylabel('accuracy')\n",
    "plt.plot(x, acc_rate_list[0,:])\n",
    "plt.plot(x, acc_rate_list[1,:])\n",
    "plt.legend(['training data', 'validation data'], loc='upper right')\n",
    "plt.show()"
   ]
  },
  {
   "cell_type": "code",
   "execution_count": 25,
   "metadata": {},
   "outputs": [
    {
     "data": {
      "text/plain": [
       "0.2394519694846645"
      ]
     },
     "execution_count": 25,
     "metadata": {},
     "output_type": "execute_result"
    }
   ],
   "source": [
    "prediction = np.argmax(predictionprob, axis = 1)\n",
    "actual = np.argmax(test_label, axis = 1)\n",
    "np.mean(prediction==actual)"
   ]
  },
  {
   "cell_type": "code",
   "execution_count": 26,
   "metadata": {},
   "outputs": [
    {
     "data": {
      "text/plain": [
       "0.5668690643001713"
      ]
     },
     "execution_count": 26,
     "metadata": {},
     "output_type": "execute_result"
    }
   ],
   "source": [
    "maxfive=np.argsort(predictionprob, axis=1)[:,-5:]\n",
    "actual= np.argmax(test_label, axis = 1).reshape(-1,1)\n",
    "np.mean((actual==maxfive).sum(-1))"
   ]
  },
  {
   "cell_type": "code",
   "execution_count": null,
   "metadata": {},
   "outputs": [],
   "source": []
  }
 ],
 "metadata": {
  "anaconda-cloud": {},
  "kernelspec": {
   "display_name": "Python 3",
   "language": "python",
   "name": "python3"
  },
  "language_info": {
   "codemirror_mode": {
    "name": "ipython",
    "version": 3
   },
   "file_extension": ".py",
   "mimetype": "text/x-python",
   "name": "python",
   "nbconvert_exporter": "python",
   "pygments_lexer": "ipython3",
   "version": "3.6.9"
  }
 },
 "nbformat": 4,
 "nbformat_minor": 2
}
