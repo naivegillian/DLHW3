{
 "cells": [
  {
   "cell_type": "markdown",
   "metadata": {},
   "source": [
    "# LeNet5 Implementation from Scratch"
   ]
  },
  {
   "cell_type": "code",
   "execution_count": 1,
   "metadata": {
    "code_folding": []
   },
   "outputs": [],
   "source": [
    "#import package\n",
    "import numpy as np \n",
    "import sys\n",
    "import pickle\n",
    "import matplotlib.pyplot as plt\n",
    "import matplotlib.image as mpimg\n",
    "import matplotlib as mpl\n",
    "import time"
   ]
  },
  {
   "cell_type": "code",
   "execution_count": 2,
   "metadata": {},
   "outputs": [],
   "source": [
    "from utils.LayerObjects import *\n",
    "from utils.utils_func import *"
   ]
  },
  {
   "cell_type": "code",
   "execution_count": 3,
   "metadata": {},
   "outputs": [],
   "source": [
    "import os\n",
    "Task_name = 'Assignment1&2 dataset'\n",
    "data_root = \"/home/p88101029/\"\n",
    "raw_data_base = os.path.join(data_root,Task_name)\n",
    "os.makedirs(raw_data_base, exist_ok=True)\n",
    "listoffolder=sorted(os.listdir(raw_data_base), reverse=False)\n",
    "import cv2\n",
    "import numpy as np\n",
    "from numpy import asarray\n",
    "images = []\n",
    "imagescat = []\n",
    "imagesnames = []\n",
    "for folder in listoffolder:\n",
    "    images_path = os.path.join(raw_data_base,folder)\n",
    "    address = sorted(os.listdir(images_path))\n",
    "    for imgadd in address:\n",
    "        imagescat.append(folder)\n",
    "        imagesnames.append(imgadd)\n",
    "        img=cv2.imread(os.path.join(images_path,imgadd))\n",
    "        images.append(asarray(img))"
   ]
  },
  {
   "cell_type": "code",
   "execution_count": 4,
   "metadata": {},
   "outputs": [],
   "source": [
    "imgs=[]\n",
    "for i in images:\n",
    "    img=cv2.resize(i,(64,64))\n",
    "    imgs.append(img)"
   ]
  },
  {
   "cell_type": "code",
   "execution_count": 5,
   "metadata": {},
   "outputs": [],
   "source": [
    "imagesarr=np.asarray(imgs)\n",
    "imagescatarr=np.asarray(imagescat)"
   ]
  },
  {
   "cell_type": "code",
   "execution_count": 6,
   "metadata": {},
   "outputs": [],
   "source": [
    "from sklearn.preprocessing import LabelEncoder\n",
    "from keras.utils import np_utils\n",
    "# encode class values as integers\n",
    "encoder = LabelEncoder()\n",
    "encoder.fit(imagescatarr)\n",
    "encoded_imagescatarr = encoder.transform(imagescatarr)\n",
    "imagescatarr = np_utils.to_categorical(encoded_imagescatarr)"
   ]
  },
  {
   "cell_type": "code",
   "execution_count": 7,
   "metadata": {
    "code_folding": []
   },
   "outputs": [
    {
     "name": "stdout",
     "output_type": "stream",
     "text": [
      "The shape of training image: torch.Size([46242, 3, 64, 64])\n",
      "The shape of validing image: torch.Size([11560, 3, 64, 64])\n",
      "The shape of testing image:  torch.Size([6423, 3, 64, 64])\n",
      "Length of the training set:  46242\n",
      "Length of the validing set: 11560\n",
      "Length of the testing set:  6423\n",
      "Shape of a single image:  torch.Size([3, 64, 64])\n"
     ]
    }
   ],
   "source": [
    "import torch\n",
    "from sklearn.model_selection import train_test_split\n",
    "from sklearn.model_selection import PredefinedSplit\n",
    "X_trainvalid, X_test, y_trainvalid, y_test = train_test_split(imagesarr,imagescatarr, test_size=0.1, random_state=0)\n",
    "\n",
    "split_indext = np.concatenate((np.ones(round(len(y_trainvalid)*0.8)), np.zeros(round(len(y_trainvalid)*0.2))), axis=None).astype(bool)\n",
    "split_indexv = np.concatenate((np.zeros(round(len(y_trainvalid)*0.8)), np.ones(round(len(y_trainvalid)*0.2))), axis=None).astype(bool)\n",
    "\n",
    "train_image, train_label = X_trainvalid[split_indext], y_trainvalid[split_indext]\n",
    "valid_image, valid_label = X_trainvalid[split_indexv], y_trainvalid[split_indexv]\n",
    "test_image, test_label = X_test, y_test\n",
    "\n",
    "train_image=np.moveaxis(train_image,3,1)\n",
    "valid_image=np.moveaxis(valid_image,3,1)\n",
    "test_image=np.moveaxis(test_image,3,1)\n",
    "\n",
    "train_image=torch.from_numpy(train_image)\n",
    "valid_image=torch.from_numpy(valid_image)\n",
    "test_image=torch.from_numpy(test_image)\n",
    "train_label=torch.from_numpy(train_label)\n",
    "valid_label=torch.from_numpy(valid_label)\n",
    "test_label=torch.from_numpy(test_label)\n",
    "\n",
    "n_m, n_m_valid, n_m_test = len(train_label),len(valid_label), len(test_label)\n",
    "print(\"The shape of training image:\", train_image.shape)\n",
    "print(\"The shape of validing image:\", valid_image.shape)\n",
    "print(\"The shape of testing image: \", test_image.shape)\n",
    "print(\"Length of the training set: \", n_m)\n",
    "print(\"Length of the validing set:\", n_m_valid)\n",
    "print(\"Length of the testing set: \", n_m_test)\n",
    "print(\"Shape of a single image: \", train_image[0].shape)"
   ]
  },
  {
   "cell_type": "code",
   "execution_count": 8,
   "metadata": {},
   "outputs": [],
   "source": [
    "def normalize(image):\n",
    "    image = image.to(torch.float32)/256\n",
    "    return image\n",
    "train_image = normalize(train_image)\n",
    "valid_image = normalize(valid_image)\n",
    "test_image  = normalize(test_image)"
   ]
  },
  {
   "cell_type": "code",
   "execution_count": 9,
   "metadata": {
    "code_folding": []
   },
   "outputs": [],
   "source": [
    "from torch import nn\n",
    "from torch import optim\n",
    "from torch.nn import functional as F\n",
    "from torch.autograd import Variable\n",
    "\n",
    "class LeNet5(nn.Module):\n",
    "\n",
    "    # network structure\n",
    "    def __init__(self):\n",
    "        super(LeNet5, self).__init__()\n",
    "        self.conv1 = nn.Conv2d(3, 6, 5, padding=0)\n",
    "        self.conv2 = nn.Conv2d(6, 16, 5)\n",
    "        self.conv3 = nn.Conv2d(16, 120, 5)\n",
    "        self.fc1   = nn.Linear(120, 84)\n",
    "        self.fc2   = nn.Linear(84, 50)\n",
    "\n",
    "    def forward(self, x):\n",
    "        x = torch.tanh(self.conv1(x))\n",
    "        x = F.max_pool2d(x, (4, 4))\n",
    "        x = torch.tanh(self.conv2(x))\n",
    "        x = F.max_pool2d(x, (2, 2))\n",
    "        x = torch.tanh(self.conv3(x))\n",
    "        x = x[:,:,0,0]\n",
    "        x = torch.tanh(self.fc1(x))\n",
    "        x = self.fc2(x)\n",
    "        return x\n"
   ]
  },
  {
   "cell_type": "code",
   "execution_count": 11,
   "metadata": {},
   "outputs": [],
   "source": [
    "Net = LeNet5()\n",
    "device = torch.device('cuda')\n",
    "Net.to(device)\n",
    "train_image=train_image.to(device)\n",
    "valid_image=valid_image.to(device)\n",
    "test_image=test_image.to(device)\n",
    "train_label=train_label.to(device)\n",
    "valid_label=valid_label.to(device)\n",
    "test_label=test_label.to(device)"
   ]
  },
  {
   "cell_type": "code",
   "execution_count": 12,
   "metadata": {},
   "outputs": [],
   "source": [
    "epoches = 100\n",
    "learning_rate = 0.001\n",
    "weight_decay = 0\n",
    "batch_size = 256"
   ]
  },
  {
   "cell_type": "code",
   "execution_count": 17,
   "metadata": {
    "code_folding": []
   },
   "outputs": [
    {
     "name": "stdout",
     "output_type": "stream",
     "text": [
      "---------- epoch 1 begin ----------\n",
      "\u001b[F\u001b[KDone, cost of epoch 1 : 591.9535458087921                                                                   \n",
      "Accuracy of training set: 0.14982052147388458\n",
      "Accuracy of validing set:  0.14636678993701935\n",
      "Time used:  3.086803436279297 sec\n",
      "---------- epoch 1 end ------------\n",
      "---------- epoch 2 begin ----------\n",
      "\u001b[F\u001b[KDone, cost of epoch 2 : 570.5503435134888                                                                   \n",
      "Accuracy of training set: 0.17224600911140442\n",
      "Accuracy of validing set:  0.16903114318847656\n",
      "Time used:  2.5636489391326904 sec\n",
      "---------- epoch 2 end ------------\n",
      "---------- epoch 3 begin ----------\n",
      "\u001b[F\u001b[KDone, cost of epoch 3 : 558.192887544632                                                                   7 %,  cost = 380.258209228515686 %,  cost = 481.65474796295166\n",
      "Accuracy of training set: 0.1785389930009842\n",
      "Accuracy of validing set:  0.17508651316165924\n",
      "Time used:  1.8078742027282715 sec\n",
      "---------- epoch 3 end ------------\n",
      "---------- epoch 4 begin ----------\n",
      "\u001b[F\u001b[KDone, cost of epoch 4 : 546.0822222232819                                                                   4527893progress: 73 %,  cost = 401.98062801361084progress: 75 %,  cost = 414.0485198497772\n",
      "Accuracy of training set: 0.20081311464309692\n",
      "Accuracy of validing set:  0.19628028571605682\n",
      "Time used:  4.587010622024536 sec\n",
      "---------- epoch 4 end ------------\n",
      "---------- epoch 5 begin ----------\n",
      "\u001b[F\u001b[KDone, cost of epoch 5 : 537.4045724868774                                                                   \n",
      "Accuracy of training set: 0.2076251059770584\n",
      "Accuracy of validing set:  0.1985294073820114\n",
      "Time used:  2.2461600303649902 sec\n",
      "---------- epoch 5 end ------------\n",
      "---------- epoch 6 begin ----------\n",
      "\u001b[F\u001b[KDone, cost of epoch 6 : 529.967946767807                                                                   cost = 161.3005018234253progress: 82 %,  cost = 439.9216220378876\n",
      "Accuracy of training set: 0.21800528466701508\n",
      "Accuracy of validing set:  0.2066608965396881\n",
      "Time used:  2.186879873275757 sec\n",
      "---------- epoch 6 end ------------\n",
      "---------- epoch 7 begin ----------\n",
      "\u001b[F\u001b[KDone, cost of epoch 7 : 523.2102854251862                                                                   09.5105311870575cost = 313.8705635070801progress: 87 %,  cost = 459.7292830944061\n",
      "Accuracy of training set: 0.22700142860412598\n",
      "Accuracy of validing set:  0.20960207283496857\n",
      "Time used:  3.161221742630005 sec\n",
      "---------- epoch 7 end ------------\n",
      "---------- epoch 8 begin ----------\n",
      "\u001b[F\u001b[KDone, cost of epoch 8 : 516.8984417915344                                                                   \n",
      "Accuracy of training set: 0.2352839559316635\n",
      "Accuracy of validing set:  0.21825259923934937\n",
      "Time used:  2.584622621536255 sec\n",
      "---------- epoch 8 end ------------\n",
      "---------- epoch 9 begin ----------\n",
      "\u001b[F\u001b[KDone, cost of epoch 9 : 511.3335967063904                                                                   \n",
      "Accuracy of training set: 0.2428528219461441\n",
      "Accuracy of validing set:  0.22370243072509766\n",
      "Time used:  1.5542235374450684 sec\n",
      "---------- epoch 9 end ------------\n",
      "---------- epoch 10 begin ----------\n",
      "\u001b[F\u001b[KDone, cost of epoch 10 : 505.8053939342499                                                                   \n",
      "Accuracy of training set: 0.244582861661911\n",
      "Accuracy of validing set:  0.22318339347839355\n",
      "Time used:  1.3687093257904053 sec\n",
      "---------- epoch 10 end ------------\n",
      "---------- epoch 11 begin ----------\n",
      "\u001b[F\u001b[KDone, cost of epoch 11 : 500.5017535686493                                                                   800689741 %,  cost = 209.28213810920715progress: 71 %,  cost = 356.39961647987366\n",
      "Accuracy of training set: 0.24817267060279846\n",
      "Accuracy of validing set:  0.22422145307064056\n",
      "Time used:  3.144892930984497 sec\n",
      "---------- epoch 11 end ------------\n",
      "---------- epoch 12 begin ----------\n",
      "\u001b[F\u001b[KDone, cost of epoch 12 : 495.542311668396                                                                   \n",
      "Accuracy of training set: 0.2553090453147888\n",
      "Accuracy of validing set:  0.22647058963775635\n",
      "Time used:  1.9087355136871338 sec\n",
      "---------- epoch 12 end ------------\n",
      "---------- epoch 13 begin ----------\n",
      "\u001b[F\u001b[KDone, cost of epoch st = 492.0296714305877713 : 492.02967143058777                                                                   \n",
      "Accuracy of training set: 0.2677868604660034\n",
      "Accuracy of validing set:  0.2326124608516693\n",
      "Time used:  2.7289676666259766 sec\n",
      "---------- epoch 13 end ------------\n",
      "---------- epoch 14 begin ----------\n",
      "\u001b[F\u001b[KDone, cost of epoch 14 : 486.6872184276581                                                                   \n",
      "Accuracy of training set: 0.2744691073894501\n",
      "Accuracy of validing set:  0.2391003519296646\n",
      "Time used:  2.462559938430786 sec\n",
      "---------- epoch 14 end ------------\n",
      "---------- epoch 15 begin ----------\n",
      "\u001b[F\u001b[KDone, cost of epoch 15 : 481.56859946250916                                                                   \n",
      "Accuracy of training set: 0.27507463097572327\n",
      "Accuracy of validing set:  0.23832179605960846\n",
      "Time used:  3.9908480644226074 sec\n",
      "---------- epoch 15 end ------------\n",
      "---------- epoch 16 begin ----------\n",
      "\u001b[F\u001b[KDone, cost of epoch 16 : 478.58955907821655                                                                   \n",
      "Accuracy of training set: 0.2856494188308716\n",
      "Accuracy of validing set:  0.24013841152191162\n",
      "Time used:  1.9932432174682617 sec\n",
      "---------- epoch 16 end ------------\n",
      "---------- epoch 17 begin ----------\n",
      "\u001b[F\u001b[KDone, cost of epoch 17 : 473.62980246543884                                                                   804413\n",
      "Accuracy of training set: 0.2883525788784027\n",
      "Accuracy of validing set:  0.2450692057609558\n",
      "Time used:  1.5554635524749756 sec\n",
      "---------- epoch 17 end ------------\n",
      "---------- epoch 18 begin ----------\n",
      "\u001b[F\u001b[KDone, cost of epoch 18 : 468.89095425605774                                                                   0935\n",
      "Accuracy of training set: 0.296678364276886\n",
      "Accuracy of validing set:  0.2441176474094391\n",
      "Time used:  2.3288798332214355 sec\n",
      "---------- epoch 18 end ------------\n",
      "---------- epoch 19 begin ----------\n",
      "\u001b[F\u001b[KDone, cost of epoch 19 : 464.6168723106384                                                                   7\n",
      "Accuracy of training set: 0.296743243932724\n",
      "Accuracy of validing set:  0.24264706671237946\n",
      "Time used:  3.3158271312713623 sec\n",
      "---------- epoch 19 end ------------\n",
      "---------- epoch 20 begin ----------\n",
      "\u001b[F\u001b[KDone, cost of epoch 20 : 461.47032856941223                                                                   49progress: 53 %,  cost = 243.85525059700012 cost = 409.69010734558105\n",
      "Accuracy of training set: 0.29166126251220703\n",
      "Accuracy of validing set:  0.24195502698421478\n",
      "Time used:  2.2394986152648926 sec\n",
      "---------- epoch 20 end ------------\n",
      "---------- epoch 21 begin ----------\n",
      "\u001b[F\u001b[KDone, cost of epoch 21 : 459.0302312374115                                                                   \n",
      "Accuracy of training set: 0.31324338912963867\n",
      "Accuracy of validing set:  0.24688582122325897\n",
      "Time used:  3.063591241836548 sec\n",
      "---------- epoch 21 end ------------\n",
      "---------- epoch 22 begin ----------\n",
      "\u001b[F\u001b[KDone, cost of epoch 22 : 454.1333074569702                                                                   \n",
      "Accuracy of training set: 0.31350287795066833\n",
      "Accuracy of validing set:  0.2532871961593628\n",
      "Time used:  3.5009748935699463 sec\n",
      "---------- epoch 22 end ------------\n",
      "---------- epoch 23 begin ----------\n",
      "\u001b[F\u001b[KDone, cost of epoch 23 : 450.39730954170227                                                                   \n",
      "Accuracy of training set: 0.32066088914871216\n",
      "Accuracy of validing set:  0.2478373795747757\n",
      "Time used:  4.542725086212158 sec\n",
      "---------- epoch 23 end ------------\n",
      "---------- epoch 24 begin ----------\n",
      "\u001b[F\u001b[KDone, cost of epoch 24 : 446.9737300872803                                                                    = 198.4498269557953\n",
      "Accuracy of training set: 0.32189351320266724\n",
      "Accuracy of validing set:  0.24394464492797852\n",
      "Time used:  3.8203341960906982 sec\n",
      "---------- epoch 24 end ------------\n",
      "---------- epoch 25 begin ----------\n",
      "\u001b[F\u001b[KDone, cost of epoch 25 : 443.48772621154785                                                                   \n",
      "Accuracy of training set: 0.32846763730049133\n",
      "Accuracy of validing set:  0.2547577917575836\n",
      "Time used:  1.835923671722412 sec\n",
      "---------- epoch 25 end ------------\n",
      "---------- epoch 26 begin ----------\n",
      "\u001b[F\u001b[KDone, cost of epoch 26 : 440.3117895126343                                                                   \n",
      "Accuracy of training set: 0.3344578742980957\n",
      "Accuracy of validing set:  0.2532007098197937\n",
      "Time used:  1.7016465663909912 sec\n",
      "---------- epoch 26 end ------------\n",
      "---------- epoch 27 begin ----------\n",
      "\u001b[F\u001b[KDone, cost of epoch 27 : 437.0386309623718                                                                   \n",
      "Accuracy of training set: 0.33958306908607483\n",
      "Accuracy of validing set:  0.2560553550720215\n",
      "Time used:  1.6627342700958252 sec\n",
      "---------- epoch 27 end ------------\n",
      "---------- epoch 28 begin ----------\n",
      "\u001b[F\u001b[KDone, cost of epoch 28 : 434.81057238578796                                                                   \n",
      "Accuracy of training set: 0.3408157229423523\n",
      "Accuracy of validing set:  0.25294119119644165\n",
      "Time used:  4.75275444984436 sec\n",
      "---------- epoch 28 end ------------\n",
      "---------- epoch 29 begin ----------\n",
      "\u001b[F\u001b[KDone, cost of epoch 29 : 430.66721987724304                                                                   \n",
      "Accuracy of training set: 0.34803858399391174\n",
      "Accuracy of validing set:  0.2576989531517029\n",
      "Time used:  3.557530403137207 sec\n",
      "---------- epoch 29 end ------------\n",
      "---------- epoch 30 begin ----------\n",
      "\u001b[F\u001b[KDone, cost of epoch 30 : 428.032591342926                                                                   \n",
      "Accuracy of training set: 0.3516067862510681\n",
      "Accuracy of validing set:  0.25233563780784607\n",
      "Time used:  2.1157965660095215 sec\n",
      "---------- epoch 30 end ------------\n",
      "---------- epoch 31 begin ----------\n",
      "\u001b[F\u001b[KDone, cost of epoch 31 : 424.27638959884644                                                                   \n",
      "Accuracy of training set: 0.3559318482875824\n",
      "Accuracy of validing set:  0.2532871961593628\n",
      "Time used:  2.504945755004883 sec\n",
      "---------- epoch 31 end ------------\n",
      "---------- epoch 32 begin ----------\n",
      "\u001b[F\u001b[KDone, cost of epoch 32 : 421.7538733482361                                                                   ost = 320.2665605545044\n",
      "Accuracy of training set: 0.3569914996623993\n",
      "Accuracy of validing set:  0.25415223836898804\n",
      "Time used:  2.6689417362213135 sec\n",
      "---------- epoch 32 end ------------\n",
      "---------- epoch 33 begin ----------\n",
      "\u001b[F\u001b[KDone, cost of epoch 33 : 419.0283007621765                                                                   \n",
      "Accuracy of training set: 0.357575386762619\n",
      "Accuracy of validing set:  0.256401389837265\n",
      "Time used:  1.6933212280273438 sec\n",
      "---------- epoch 33 end ------------\n",
      "---------- epoch 34 begin ----------\n",
      "\u001b[F\u001b[KDone, cost of epoch 34 : 415.59797382354736                                                                   \n",
      "Accuracy of training set: 0.3687989413738251\n",
      "Accuracy of validing set:  0.25614187121391296\n",
      "Time used:  1.6033918857574463 sec\n",
      "---------- epoch 34 end ------------\n",
      "---------- epoch 35 begin ----------\n",
      "\u001b[F\u001b[KDone, cost of epoch 35 : 412.766943693161                                                                   \n",
      "Accuracy of training set: 0.3701397180557251\n",
      "Accuracy of validing set:  0.26046714186668396\n",
      "Time used:  1.6142144203186035 sec\n",
      "---------- epoch 35 end ------------\n",
      "---------- epoch 36 begin ----------\n",
      "\u001b[F\u001b[KDone, cost of epoch 36 : 410.0991311073303                                                                   \n",
      "Accuracy of training set: 0.38023874163627625\n",
      "Accuracy of validing set:  0.25795847177505493\n",
      "Time used:  3.2583465576171875 sec\n",
      "---------- epoch 36 end ------------\n",
      "---------- epoch 37 begin ----------\n",
      "\u001b[F\u001b[KDone, cost of epoch 37 : 407.85033082962036                                                                   \n",
      "Accuracy of training set: 0.37500542402267456\n",
      "Accuracy of validing set:  0.24956747889518738\n",
      "Time used:  1.2355618476867676 sec\n",
      "---------- epoch 37 end ------------\n",
      "---------- epoch 38 begin ----------\n",
      "\u001b[F\u001b[KDone, cost of epoch 38 : 405.7850158214569                                                                   \n",
      "Accuracy of training set: 0.38508284091949463\n",
      "Accuracy of validing set:  0.2533737123012543\n",
      "Time used:  1.8734991550445557 sec\n",
      "---------- epoch 38 end ------------\n",
      "---------- epoch 39 begin ----------\n",
      "\u001b[F\u001b[KDone, cost of epoch 39 : 402.04071056842804                                                                   \n",
      "Accuracy of training set: 0.39165693521499634\n",
      "Accuracy of validing set:  0.25614187121391296\n",
      "Time used:  2.0408496856689453 sec\n",
      "---------- epoch 39 end ------------\n",
      "---------- epoch 40 begin ----------\n",
      "\u001b[F\u001b[KDone, cost of epoch 40 : 398.47962176799774                                                                   379447 %,  cost = 188.8098552227020351 %,  cost = 204.258729696273866 %,  cost = 264.11686730384827 %,  cost = 274.9932777881622375 %,  cost = 301.562748670578%,  cost = 345.41886377334595\n",
      "Accuracy of training set: 0.38869428634643555\n",
      "Accuracy of validing set:  0.2548443078994751\n",
      "Time used:  4.518420457839966 sec\n",
      "---------- epoch 40 end ------------\n",
      "---------- epoch 41 begin ----------\n",
      "\u001b[F\u001b[KDone, cost of epoch 41 : 396.48120415210724                                                                   \n",
      "Accuracy of training set: 0.3966740369796753\n",
      "Accuracy of validing set:  0.2538927495479584\n",
      "Time used:  1.401064157485962 sec\n",
      "---------- epoch 41 end ------------\n",
      "---------- epoch 42 begin ----------\n",
      "\u001b[F\u001b[KDone, cost of epoch 42 : 394.81241166591644                                                                   \n",
      "Accuracy of training set: 0.39883658289909363\n",
      "Accuracy of validing set:  0.2512110769748688\n",
      "Time used:  1.655242919921875 sec\n",
      "---------- epoch 42 end ------------\n",
      "---------- epoch 43 begin ----------\n",
      "\u001b[F\u001b[KDone, cost of epoch 43 : 390.7587926387787                                                                   \n",
      "Accuracy of training set: 0.40229663252830505\n",
      "Accuracy of validing set:  0.2517301142215729\n",
      "Time used:  3.529379367828369 sec\n",
      "---------- epoch 43 end ------------\n",
      "---------- epoch 44 begin ----------\n",
      "\u001b[F\u001b[KDone, cost of epoch 44 : 389.2499302625656                                                                   \n",
      "Accuracy of training set: 0.4053457975387573\n",
      "Accuracy of validing set:  0.24974048137664795\n",
      "Time used:  3.685086250305176 sec\n",
      "---------- epoch 44 end ------------\n",
      "---------- epoch 45 begin ----------\n",
      "\u001b[F\u001b[KDone, cost of epoch 45 : 386.56004095077515                                                                   \n",
      "Accuracy of training set: 0.4127632975578308\n",
      "Accuracy of validing set:  0.25138407945632935\n",
      "Time used:  2.140076160430908 sec\n",
      "---------- epoch 45 end ------------\n",
      "Total time used:  116.84970140457153 sec\n"
     ]
    }
   ],
   "source": [
    "#Training loops\n",
    "\n",
    "acc_rate_list = []\n",
    "criterion = nn.CrossEntropyLoss()\n",
    "optimizer = optim.Adam(Net.parameters(), lr=learning_rate,weight_decay=weight_decay)\n",
    "st = time.time()\n",
    "counter=0\n",
    "best_acc=0\n",
    "for epoch in range(0,epoches):\n",
    "    print(\"---------- epoch\", epoch+1, \"begin ----------\")\n",
    "    \n",
    "    #loop over each batch\n",
    "    ste = time.time()\n",
    "    cost = 0\n",
    "    mini_batches = random_mini_batches(train_image, train_label, batch_size)\n",
    "    for i in range(len(mini_batches)):\n",
    "        batch_image, batch_label = mini_batches[i]\n",
    "        \n",
    "        optimizer.zero_grad()\n",
    "        \n",
    "        outputs = Net(batch_image)  \n",
    "        \n",
    "        loss = criterion(outputs, batch_label)\n",
    "        \n",
    "        loss.backward()\n",
    "        \n",
    "        optimizer.step()\n",
    "        \n",
    "        with torch.no_grad():\n",
    "            cost += loss.item()\n",
    "        # print progress\n",
    "        if i%(int(len(mini_batches)/100))==0:\n",
    "            sys.stdout.write(\"\\033[F\")   #CURSOR_UP_ONE\n",
    "            sys.stdout.write(\"\\033[K\")   #ERASE_LINE\n",
    "            print (\"progress:\", int(100*(i+1)/len(mini_batches)), \"%, \", \"cost =\", cost, end='\\r')\n",
    "\n",
    "    sys.stdout.write(\"\\033[F\")   #CURSOR_UP_ONE\n",
    "    sys.stdout.write(\"\\033[K\")   #ERASE_LINE\n",
    "    \n",
    "    print (\"Done, cost of epoch\", epoch+1, \":\", cost,\"                                                                  \")\n",
    "    \n",
    "    with torch.no_grad():\n",
    "        acc_train=torch.mean((torch.max(Net.forward(train_image), 1).indices==torch.max(train_label, 1).indices).to(torch.float32)).item()\n",
    "        acc_test=torch.mean((torch.max(Net.forward(valid_image), 1).indices==torch.max(valid_label, 1).indices).to(torch.float32)).item()\n",
    "   \n",
    "    print(\"Accuracy of training set:\",  acc_train)\n",
    "    print(\"Accuracy of validing set: \",  acc_test)\n",
    "    print(\"Time used: \",time.time() - ste, \"sec\")\n",
    "    print(\"---------- epoch\", epoch+1, \"end ------------\")\n",
    "    acc_rate_list.append([acc_train, acc_test])\n",
    "    if acc_test>best_acc:\n",
    "        counter =0\n",
    "        best_acc=acc_test\n",
    "    else:\n",
    "        counter+=1\n",
    "        if counter==10:\n",
    "            break\n",
    "acc_rate_list = np.array(acc_rate_list).T\n",
    "print(\"Total time used: \", time.time() - st, \"sec\")\n"
   ]
  },
  {
   "cell_type": "code",
   "execution_count": 18,
   "metadata": {},
   "outputs": [
    {
     "data": {
      "image/png": "[encoded data removed]",
      "text/plain": [
       "<Figure size 432x288 with 1 Axes>"
      ]
     },
     "metadata": {
      "needs_background": "light"
     },
     "output_type": "display_data"
    }
   ],
   "source": [
    "# This shows the error rate of training and testing data after each epoch\n",
    "\n",
    "x = np.arange(epoches)[0:acc_rate_list.shape[1]]\n",
    "plt.xlabel('epoches')\n",
    "plt.ylabel('accuracy')\n",
    "plt.plot(x, acc_rate_list[0,:])\n",
    "plt.plot(x, acc_rate_list[1,:])\n",
    "plt.legend(['training data', 'validation data'], loc='upper right')\n",
    "plt.show()"
   ]
  },
  {
   "cell_type": "code",
   "execution_count": 19,
   "metadata": {},
   "outputs": [],
   "source": [
    "with torch.no_grad():\n",
    "    predictionprob = Net.forward(valid_image).cpu().numpy()"
   ]
  },
  {
   "cell_type": "code",
   "execution_count": 20,
   "metadata": {},
   "outputs": [
    {
     "data": {
      "text/plain": [
       "0.2513840830449827"
      ]
     },
     "execution_count": 20,
     "metadata": {},
     "output_type": "execute_result"
    }
   ],
   "source": [
    "prediction = np.argmax(predictionprob, axis = 1)\n",
    "actual = np.argmax(valid_label.cpu().numpy(), axis = 1)\n",
    "np.mean(prediction==actual)"
   ]
  },
  {
   "cell_type": "code",
   "execution_count": 21,
   "metadata": {},
   "outputs": [
    {
     "data": {
      "text/plain": [
       "0.5841695501730104"
      ]
     },
     "execution_count": 21,
     "metadata": {},
     "output_type": "execute_result"
    }
   ],
   "source": [
    "maxfive=np.argsort(predictionprob, axis=1)[:,-5:]\n",
    "actual= np.argmax(valid_label.cpu().numpy(), axis = 1).reshape(-1,1)\n",
    "np.mean((actual==maxfive).sum(-1))"
   ]
  },
  {
   "cell_type": "code",
   "execution_count": 22,
   "metadata": {},
   "outputs": [
    {
     "name": "stdout",
     "output_type": "stream",
     "text": [
      "Total time used:  0.020797252655029297 sec\n"
     ]
    }
   ],
   "source": [
    "with torch.no_grad():\n",
    "    st = time.time()\n",
    "    predictionprob = Net.forward(test_image).cpu().numpy()\n",
    "    print(\"Total time used: \", time.time() - st, \"sec\")    "
   ]
  },
  {
   "cell_type": "code",
   "execution_count": 23,
   "metadata": {},
   "outputs": [
    {
     "data": {
      "text/plain": [
       "0.24194301728164408"
      ]
     },
     "execution_count": 23,
     "metadata": {},
     "output_type": "execute_result"
    }
   ],
   "source": [
    "prediction = np.argmax(predictionprob, axis = 1)\n",
    "actual = np.argmax(test_label.cpu().numpy(), axis = 1)\n",
    "np.mean(prediction==actual)"
   ]
  },
  {
   "cell_type": "code",
   "execution_count": 24,
   "metadata": {},
   "outputs": [
    {
     "data": {
      "text/plain": [
       "0.5843063988790285"
      ]
     },
     "execution_count": 24,
     "metadata": {},
     "output_type": "execute_result"
    }
   ],
   "source": [
    "maxfive=np.argsort(predictionprob, axis=1)[:,-5:]\n",
    "actual= np.argmax(test_label.cpu().numpy(), axis = 1).reshape(-1,1)\n",
    "np.mean((actual==maxfive).sum(-1))"
   ]
  },
  {
   "cell_type": "code",
   "execution_count": 25,
   "metadata": {},
   "outputs": [
    {
     "name": "stdout",
     "output_type": "stream",
     "text": [
      "[INFO] Register count_convNd() for <class 'torch.nn.modules.conv.Conv2d'>.\n",
      "[INFO] Register count_linear() for <class 'torch.nn.modules.linear.Linear'>.\n",
      "1.973M 65.406K\n"
     ]
    }
   ],
   "source": [
    "from thop import profile\n",
    "from thop import clever_format\n",
    "\n",
    "flops, params = profile(Net, inputs=(torch.randn(1, 3, 64, 64).to(device),))\n",
    "flops, params = clever_format([flops, params], \"%.3f\")\n",
    "print(flops, params)"
   ]
  },
  {
   "cell_type": "code",
   "execution_count": null,
   "metadata": {},
   "outputs": [],
   "source": []
  },
  {
   "cell_type": "code",
   "execution_count": 26,
   "metadata": {},
   "outputs": [
    {
     "data": {
      "text/plain": [
       "'\\nmodule = model.conv1\\nprint(list(module.named_parameters()))\\nprint(list(module.named_buffers()))\\nimport torch.nn.utils.prune as prune\\nprune.random_unstructured(module, name=\"weight\", amount=0.3)\\nprint(list(module.named_parameters()))\\nprint(list(module.named_buffers()))\\nprint(module.weight)\\nprint(module._forward_pre_hooks)\\nprune.ln_structured(module, name=\"weight\", amount=0.5, n=2, dim=0)\\nprint(module.weight)\\nfor hook in module._forward_pre_hooks.values():\\n    if hook._tensor_name == \"weight\":  # select out the correct hook\\n        break\\n\\nprint(list(hook))\\nprune.remove(module, \\'weight\\')\\nprint(list(module.named_parameters()))\\nprint(list(module.named_buffers()))\\n'"
      ]
     },
     "execution_count": 26,
     "metadata": {},
     "output_type": "execute_result"
    }
   ],
   "source": [
    "'''\n",
    "module = model.conv1\n",
    "print(list(module.named_parameters()))\n",
    "print(list(module.named_buffers()))\n",
    "import torch.nn.utils.prune as prune\n",
    "prune.random_unstructured(module, name=\"weight\", amount=0.3)\n",
    "print(list(module.named_parameters()))\n",
    "print(list(module.named_buffers()))\n",
    "print(module.weight)\n",
    "print(module._forward_pre_hooks)\n",
    "prune.ln_structured(module, name=\"weight\", amount=0.5, n=2, dim=0)\n",
    "print(module.weight)\n",
    "for hook in module._forward_pre_hooks.values():\n",
    "    if hook._tensor_name == \"weight\":  # select out the correct hook\n",
    "        break\n",
    "\n",
    "print(list(hook))\n",
    "prune.remove(module, 'weight')\n",
    "print(list(module.named_parameters()))\n",
    "print(list(module.named_buffers()))\n",
    "'''"
   ]
  },
  {
   "cell_type": "code",
   "execution_count": 27,
   "metadata": {},
   "outputs": [
    {
     "data": {
      "text/plain": [
       "\"\\nnew_model = LeNet5()\\nfor name, module in new_model.named_modules():\\n    # prune 20% of connections in all 2D-conv layers\\n    if isinstance(module, torch.nn.Conv2d):\\n        prune.l1_unstructured(module, name='weight', amount=0.2)\\n    # prune 40% of connections in all linear layers\\n    elif isinstance(module, torch.nn.Linear):\\n        prune.l1_unstructured(module, name='weight', amount=0.4)\\n\\nprint(dict(new_model.named_buffers()).keys())  # to verify that all masks exist\\n\""
      ]
     },
     "execution_count": 27,
     "metadata": {},
     "output_type": "execute_result"
    }
   ],
   "source": [
    "'''\n",
    "new_model = LeNet5()\n",
    "for name, module in new_model.named_modules():\n",
    "    # prune 20% of connections in all 2D-conv layers\n",
    "    if isinstance(module, torch.nn.Conv2d):\n",
    "        prune.l1_unstructured(module, name='weight', amount=0.2)\n",
    "    # prune 40% of connections in all linear layers\n",
    "    elif isinstance(module, torch.nn.Linear):\n",
    "        prune.l1_unstructured(module, name='weight', amount=0.4)\n",
    "\n",
    "print(dict(new_model.named_buffers()).keys())  # to verify that all masks exist\n",
    "'''"
   ]
  },
  {
   "cell_type": "code",
   "execution_count": 29,
   "metadata": {},
   "outputs": [],
   "source": [
    "import copy\n",
    "import torch.nn.utils.prune as prune\n",
    "Net_copy = copy.deepcopy(Net)\n",
    "\n",
    "parameters_to_prune = (\n",
    "    (Net_copy.conv1, 'weight'),\n",
    "    (Net_copy.conv2, 'weight'),\n",
    "    (Net_copy.conv3, 'weight'),\n",
    "    (Net_copy.fc1, 'weight'),\n",
    "    (Net_copy.fc2, 'weight'),\n",
    ")\n",
    "\n",
    "prune.global_unstructured(\n",
    "    parameters_to_prune,\n",
    "    pruning_method=prune.L1Unstructured,\n",
    "    amount=0.2,\n",
    ")"
   ]
  },
  {
   "cell_type": "code",
   "execution_count": 30,
   "metadata": {},
   "outputs": [
    {
     "name": "stdout",
     "output_type": "stream",
     "text": [
      "---------- epoch 1 begin ----------\n",
      "\u001b[F\u001b[KDone, cost of epoch 1 : 384.4720393419266                                                                   89.08747231960297progress: 27 %,  cost = 105.67779457569122progress: 78 %,  cost = 301.82295072078705\n",
      "Accuracy of training set: 0.41425544023513794\n",
      "Accuracy of validing set:  0.25017300248146057\n",
      "Time used:  4.293994903564453 sec\n",
      "---------- epoch 1 end ------------\n",
      "---------- epoch 2 begin ----------\n",
      "\u001b[F\u001b[KDone, cost of epoch 2 : 379.31928765773773                                                                   \n",
      "Accuracy of training set: 0.42111068964004517\n",
      "Accuracy of validing set:  0.25415223836898804\n",
      "Time used:  1.712049961090088 sec\n",
      "---------- epoch 2 end ------------\n",
      "---------- epoch 3 begin ----------\n",
      "\u001b[F\u001b[KDone, cost of epoch 3 : 376.31578612327576                                                                   \n",
      "Accuracy of training set: 0.42392200231552124\n",
      "Accuracy of validing set:  0.24757786095142365\n",
      "Time used:  2.128485679626465 sec\n",
      "---------- epoch 3 end ------------\n",
      "---------- epoch 4 begin ----------\n",
      "\u001b[F\u001b[KDone, cost of epoch 4 : 375.1079480648041                                                                   \n",
      "Accuracy of training set: 0.4245707392692566\n",
      "Accuracy of validing set:  0.24697232246398926\n",
      "Time used:  2.4607484340667725 sec\n",
      "---------- epoch 4 end ------------\n",
      "---------- epoch 5 begin ----------\n",
      "\u001b[F\u001b[KDone, cost of epoch 5 : 372.95937836170197                                                                   2780457\n",
      "Accuracy of training set: 0.42965272068977356\n",
      "Accuracy of validing set:  0.24818339943885803\n",
      "Time used:  3.9957103729248047 sec\n",
      "---------- epoch 5 end ------------\n",
      "---------- epoch 6 begin ----------\n",
      "\u001b[F\u001b[KDone, cost of epoch 6 : 371.8581876754761                                                                   \n",
      "Accuracy of training set: 0.4287228286266327\n",
      "Accuracy of validing set:  0.24766436219215393\n",
      "Time used:  2.0226190090179443 sec\n",
      "---------- epoch 6 end ------------\n",
      "---------- epoch 7 begin ----------\n",
      "\u001b[F\u001b[KDone, cost of epoch 7 : 369.5047496557236                                                                   \n",
      "Accuracy of training set: 0.4301717281341553\n",
      "Accuracy of validing set:  0.2467993050813675\n",
      "Time used:  2.201575517654419 sec\n",
      "---------- epoch 7 end ------------\n",
      "Total time used:  18.939477920532227 sec\n"
     ]
    }
   ],
   "source": [
    "#Training loops\n",
    "st = time.time()\n",
    "acc_rate_list = []\n",
    "criterion = nn.CrossEntropyLoss()\n",
    "optimizer = optim.Adam(Net_copy.parameters(), lr=learning_rate,weight_decay=weight_decay)\n",
    "counter=0\n",
    "best_acc=0\n",
    "for epoch in range(0,epoches):\n",
    "    print(\"---------- epoch\", epoch+1, \"begin ----------\")\n",
    "    \n",
    "    #loop over each batch\n",
    "    ste = time.time()\n",
    "    cost = 0\n",
    "    mini_batches = random_mini_batches(train_image, train_label, batch_size)\n",
    "    for i in range(len(mini_batches)):\n",
    "        batch_image, batch_label = mini_batches[i]\n",
    "        \n",
    "        optimizer.zero_grad()\n",
    "        \n",
    "        outputs = Net_copy(batch_image)  \n",
    "        \n",
    "        loss = criterion(outputs, batch_label)\n",
    "        \n",
    "        loss.backward()\n",
    "        \n",
    "        optimizer.step()\n",
    "        \n",
    "        with torch.no_grad():\n",
    "            cost += loss.item()\n",
    "        # print progress\n",
    "        if i%(int(len(mini_batches)/100))==0:\n",
    "            sys.stdout.write(\"\\033[F\")   #CURSOR_UP_ONE\n",
    "            sys.stdout.write(\"\\033[K\")   #ERASE_LINE\n",
    "            print (\"progress:\", int(100*(i+1)/len(mini_batches)), \"%, \", \"cost =\", cost, end='\\r')\n",
    "\n",
    "    sys.stdout.write(\"\\033[F\")   #CURSOR_UP_ONE\n",
    "    sys.stdout.write(\"\\033[K\")   #ERASE_LINE\n",
    "    \n",
    "    print (\"Done, cost of epoch\", epoch+1, \":\", cost,\"                                                                  \")\n",
    "    \n",
    "    with torch.no_grad():\n",
    "        acc_train=torch.mean((torch.max(Net_copy.forward(train_image), 1).indices==torch.max(train_label, 1).indices).to(torch.float32)).item()\n",
    "        acc_test=torch.mean((torch.max(Net_copy.forward(valid_image), 1).indices==torch.max(valid_label, 1).indices).to(torch.float32)).item()\n",
    "   \n",
    "    acc_rate_list.append([acc_train, acc_test])\n",
    "    print(\"Accuracy of training set:\",  acc_train)\n",
    "    print(\"Accuracy of validing set: \",  acc_test)\n",
    "    print(\"Time used: \",time.time() - ste, \"sec\")\n",
    "    print(\"---------- epoch\", epoch+1, \"end ------------\")\n",
    "    if acc_test>best_acc:\n",
    "        counter =0\n",
    "        best_acc=acc_test\n",
    "    else:\n",
    "        counter+=1\n",
    "        if counter==5:\n",
    "            break\n",
    "acc_rate_list = np.array(acc_rate_list).T\n",
    "print(\"Total time used: \", time.time() - st, \"sec\")"
   ]
  },
  {
   "cell_type": "code",
   "execution_count": 31,
   "metadata": {},
   "outputs": [
    {
     "data": {
      "image/png": "[encoded data removed]",
      "text/plain": [
       "<Figure size 432x288 with 1 Axes>"
      ]
     },
     "metadata": {
      "needs_background": "light"
     },
     "output_type": "display_data"
    }
   ],
   "source": [
    "# This shows the error rate of training and testing data after each epoch\n",
    "\n",
    "x = np.arange(epoches)[0:acc_rate_list.shape[1]]\n",
    "plt.xlabel('epoches')\n",
    "plt.ylabel('accuracy')\n",
    "plt.plot(x, acc_rate_list[0,:])\n",
    "plt.plot(x, acc_rate_list[1,:])\n",
    "plt.legend(['training data', 'validation data'], loc='upper right')\n",
    "plt.show()"
   ]
  },
  {
   "cell_type": "code",
   "execution_count": 32,
   "metadata": {},
   "outputs": [
    {
     "name": "stdout",
     "output_type": "stream",
     "text": [
      "Sparsity in conv1.weight: 28.00%\n",
      "Sparsity in conv2.weight: 25.71%\n",
      "Sparsity in conv3.weight: 25.71%\n",
      "Sparsity in fc1.weight: 15.26%\n",
      "Sparsity in fc2.weight: 11.12%\n",
      "Global sparsity: 20.00%\n"
     ]
    }
   ],
   "source": [
    "print(\n",
    "    \"Sparsity in conv1.weight: {:.2f}%\".format(\n",
    "        100. * float(torch.sum(Net_copy.conv1.weight == 0))\n",
    "        / float(Net_copy.conv1.weight.nelement())\n",
    "    )\n",
    ")\n",
    "print(\n",
    "    \"Sparsity in conv2.weight: {:.2f}%\".format(\n",
    "        100. * float(torch.sum(Net_copy.conv2.weight == 0))\n",
    "        / float(Net_copy.conv2.weight.nelement())\n",
    "    )\n",
    ")\n",
    "print(\n",
    "    \"Sparsity in conv3.weight: {:.2f}%\".format(\n",
    "        100. * float(torch.sum(Net_copy.conv2.weight == 0))\n",
    "        / float(Net_copy.conv2.weight.nelement())\n",
    "    )\n",
    ")\n",
    "print(\n",
    "    \"Sparsity in fc1.weight: {:.2f}%\".format(\n",
    "        100. * float(torch.sum(Net_copy.fc1.weight == 0))\n",
    "        / float(Net_copy.fc1.weight.nelement())\n",
    "    )\n",
    ")\n",
    "print(\n",
    "    \"Sparsity in fc2.weight: {:.2f}%\".format(\n",
    "        100. * float(torch.sum(Net_copy.fc2.weight == 0))\n",
    "        / float(Net_copy.fc2.weight.nelement())\n",
    "    )\n",
    ")\n",
    "\n",
    "print(\n",
    "    \"Global sparsity: {:.2f}%\".format(\n",
    "        100. * float(\n",
    "            torch.sum(Net_copy.conv1.weight == 0)\n",
    "            + torch.sum(Net_copy.conv2.weight == 0)\n",
    "            + torch.sum(Net_copy.conv3.weight == 0)\n",
    "            + torch.sum(Net_copy.fc1.weight == 0)\n",
    "            + torch.sum(Net_copy.fc2.weight == 0)\n",
    "        )\n",
    "        / float(\n",
    "            Net_copy.conv1.weight.nelement()\n",
    "            + Net_copy.conv2.weight.nelement()\n",
    "            + Net_copy.conv3.weight.nelement()\n",
    "            + Net_copy.fc1.weight.nelement()\n",
    "            + Net_copy.fc2.weight.nelement()\n",
    "        )\n",
    "    )\n",
    ")"
   ]
  },
  {
   "cell_type": "code",
   "execution_count": 33,
   "metadata": {},
   "outputs": [],
   "source": [
    "for name, module in Net_copy.named_modules():\n",
    "    if isinstance(module, nn.Conv2d) or isinstance(module, nn.Linear):\n",
    "        prune.remove(module, 'weight')"
   ]
  },
  {
   "cell_type": "code",
   "execution_count": 34,
   "metadata": {},
   "outputs": [
    {
     "name": "stdout",
     "output_type": "stream",
     "text": [
      "Total time used:  0.07105326652526855 sec\n"
     ]
    }
   ],
   "source": [
    "with torch.no_grad():\n",
    "    st = time.time()\n",
    "    predictionprob = Net_copy.forward(test_image).cpu().numpy()\n",
    "    print(\"Total time used: \", time.time() - st, \"sec\")    "
   ]
  },
  {
   "cell_type": "code",
   "execution_count": 35,
   "metadata": {},
   "outputs": [
    {
     "data": {
      "text/plain": [
       "0.23851782656079715"
      ]
     },
     "execution_count": 35,
     "metadata": {},
     "output_type": "execute_result"
    }
   ],
   "source": [
    "prediction = np.argmax(predictionprob, axis = 1)\n",
    "actual = np.argmax(test_label.cpu().numpy(), axis = 1)\n",
    "np.mean(prediction==actual)"
   ]
  },
  {
   "cell_type": "code",
   "execution_count": 36,
   "metadata": {},
   "outputs": [
    {
     "data": {
      "text/plain": [
       "0.5712283979448856"
      ]
     },
     "execution_count": 36,
     "metadata": {},
     "output_type": "execute_result"
    }
   ],
   "source": [
    "maxfive=np.argsort(predictionprob, axis=1)[:,-5:]\n",
    "actual= np.argmax(test_label.cpu().numpy(), axis = 1).reshape(-1,1)\n",
    "np.mean((actual==maxfive).sum(-1))"
   ]
  },
  {
   "cell_type": "code",
   "execution_count": 37,
   "metadata": {},
   "outputs": [
    {
     "name": "stdout",
     "output_type": "stream",
     "text": [
      "[INFO] Register count_convNd() for <class 'torch.nn.modules.conv.Conv2d'>.\n",
      "[INFO] Register count_linear() for <class 'torch.nn.modules.linear.Linear'>.\n",
      "1.973M 65.406K\n"
     ]
    }
   ],
   "source": [
    "flops, params = profile(Net_copy, inputs=(torch.randn(1, 3, 64, 64).to(device),))\n",
    "flops, params = clever_format([flops, params], \"%.3f\")\n",
    "print(flops, params)"
   ]
  },
  {
   "cell_type": "code",
   "execution_count": null,
   "metadata": {},
   "outputs": [],
   "source": []
  },
  {
   "cell_type": "code",
   "execution_count": null,
   "metadata": {},
   "outputs": [],
   "source": []
  }
 ],
 "metadata": {
  "anaconda-cloud": {},
  "kernelspec": {
   "display_name": "Python 3",
   "language": "python",
   "name": "python3"
  },
  "language_info": {
   "codemirror_mode": {
    "name": "ipython",
    "version": 3
   },
   "file_extension": ".py",
   "mimetype": "text/x-python",
   "name": "python",
   "nbconvert_exporter": "python",
   "pygments_lexer": "ipython3",
   "version": "3.6.9"
  }
 },
 "nbformat": 4,
 "nbformat_minor": 2
}
